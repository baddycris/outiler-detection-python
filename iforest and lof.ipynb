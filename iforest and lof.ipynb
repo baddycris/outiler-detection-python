{
 "cells": [
  {
   "cell_type": "code",
   "execution_count": 2,
   "metadata": {},
   "outputs": [],
   "source": [
    "import pandas as pd\n",
    "import numpy as np\n",
    "import seaborn as sns\n",
    "import matplotlib.pyplot as plt"
   ]
  },
  {
   "cell_type": "code",
   "execution_count": 3,
   "metadata": {},
   "outputs": [],
   "source": [
    "df = pd.read_csv('file5.csv')"
   ]
  },
  {
   "cell_type": "code",
   "execution_count": 4,
   "metadata": {},
   "outputs": [
    {
     "data": {
      "text/html": [
       "<div>\n",
       "<style scoped>\n",
       "    .dataframe tbody tr th:only-of-type {\n",
       "        vertical-align: middle;\n",
       "    }\n",
       "\n",
       "    .dataframe tbody tr th {\n",
       "        vertical-align: top;\n",
       "    }\n",
       "\n",
       "    .dataframe thead th {\n",
       "        text-align: right;\n",
       "    }\n",
       "</style>\n",
       "<table border=\"1\" class=\"dataframe\">\n",
       "  <thead>\n",
       "    <tr style=\"text-align: right;\">\n",
       "      <th></th>\n",
       "      <th>Unnamed: 0</th>\n",
       "      <th>pc1</th>\n",
       "      <th>pc2</th>\n",
       "      <th>pc3</th>\n",
       "      <th>pc4</th>\n",
       "      <th>pc5</th>\n",
       "      <th>pc6</th>\n",
       "      <th>pc7</th>\n",
       "      <th>pc8</th>\n",
       "      <th>pc9</th>\n",
       "      <th>pc10</th>\n",
       "      <th>target</th>\n",
       "    </tr>\n",
       "  </thead>\n",
       "  <tbody>\n",
       "    <tr>\n",
       "      <th>0</th>\n",
       "      <td>0</td>\n",
       "      <td>4.770057</td>\n",
       "      <td>4.598420</td>\n",
       "      <td>0.570520</td>\n",
       "      <td>-3.377520</td>\n",
       "      <td>0.352645</td>\n",
       "      <td>-0.136847</td>\n",
       "      <td>0.278055</td>\n",
       "      <td>1.869947</td>\n",
       "      <td>0.377328</td>\n",
       "      <td>1.233692</td>\n",
       "      <td>0</td>\n",
       "    </tr>\n",
       "    <tr>\n",
       "      <th>1</th>\n",
       "      <td>1</td>\n",
       "      <td>-3.896590</td>\n",
       "      <td>1.425879</td>\n",
       "      <td>0.099658</td>\n",
       "      <td>-1.241758</td>\n",
       "      <td>-1.307201</td>\n",
       "      <td>0.486471</td>\n",
       "      <td>0.825756</td>\n",
       "      <td>0.025243</td>\n",
       "      <td>0.133589</td>\n",
       "      <td>-0.334614</td>\n",
       "      <td>0</td>\n",
       "    </tr>\n",
       "    <tr>\n",
       "      <th>2</th>\n",
       "      <td>2</td>\n",
       "      <td>0.541838</td>\n",
       "      <td>2.872118</td>\n",
       "      <td>0.091530</td>\n",
       "      <td>-0.827609</td>\n",
       "      <td>-0.793905</td>\n",
       "      <td>0.357727</td>\n",
       "      <td>0.035772</td>\n",
       "      <td>-0.516540</td>\n",
       "      <td>-0.028116</td>\n",
       "      <td>-0.525921</td>\n",
       "      <td>0</td>\n",
       "    </tr>\n",
       "    <tr>\n",
       "      <th>3</th>\n",
       "      <td>3</td>\n",
       "      <td>10.184893</td>\n",
       "      <td>-2.250180</td>\n",
       "      <td>0.152697</td>\n",
       "      <td>-1.065936</td>\n",
       "      <td>1.193516</td>\n",
       "      <td>-1.739212</td>\n",
       "      <td>-2.705527</td>\n",
       "      <td>0.337772</td>\n",
       "      <td>0.576435</td>\n",
       "      <td>0.523831</td>\n",
       "      <td>0</td>\n",
       "    </tr>\n",
       "    <tr>\n",
       "      <th>4</th>\n",
       "      <td>4</td>\n",
       "      <td>-1.314426</td>\n",
       "      <td>2.673825</td>\n",
       "      <td>2.767196</td>\n",
       "      <td>-1.370687</td>\n",
       "      <td>0.020119</td>\n",
       "      <td>2.729044</td>\n",
       "      <td>0.218235</td>\n",
       "      <td>0.192596</td>\n",
       "      <td>0.604500</td>\n",
       "      <td>-0.491879</td>\n",
       "      <td>0</td>\n",
       "    </tr>\n",
       "  </tbody>\n",
       "</table>\n",
       "</div>"
      ],
      "text/plain": [
       "   Unnamed: 0        pc1       pc2       pc3       pc4       pc5       pc6  \\\n",
       "0           0   4.770057  4.598420  0.570520 -3.377520  0.352645 -0.136847   \n",
       "1           1  -3.896590  1.425879  0.099658 -1.241758 -1.307201  0.486471   \n",
       "2           2   0.541838  2.872118  0.091530 -0.827609 -0.793905  0.357727   \n",
       "3           3  10.184893 -2.250180  0.152697 -1.065936  1.193516 -1.739212   \n",
       "4           4  -1.314426  2.673825  2.767196 -1.370687  0.020119  2.729044   \n",
       "\n",
       "        pc7       pc8       pc9      pc10  target  \n",
       "0  0.278055  1.869947  0.377328  1.233692       0  \n",
       "1  0.825756  0.025243  0.133589 -0.334614       0  \n",
       "2  0.035772 -0.516540 -0.028116 -0.525921       0  \n",
       "3 -2.705527  0.337772  0.576435  0.523831       0  \n",
       "4  0.218235  0.192596  0.604500 -0.491879       0  "
      ]
     },
     "execution_count": 4,
     "metadata": {},
     "output_type": "execute_result"
    }
   ],
   "source": [
    "df.head()"
   ]
  },
  {
   "cell_type": "code",
   "execution_count": 5,
   "metadata": {},
   "outputs": [
    {
     "data": {
      "text/html": [
       "<div>\n",
       "<style scoped>\n",
       "    .dataframe tbody tr th:only-of-type {\n",
       "        vertical-align: middle;\n",
       "    }\n",
       "\n",
       "    .dataframe tbody tr th {\n",
       "        vertical-align: top;\n",
       "    }\n",
       "\n",
       "    .dataframe thead th {\n",
       "        text-align: right;\n",
       "    }\n",
       "</style>\n",
       "<table border=\"1\" class=\"dataframe\">\n",
       "  <thead>\n",
       "    <tr style=\"text-align: right;\">\n",
       "      <th></th>\n",
       "      <th>Unnamed: 0</th>\n",
       "      <th>pc1</th>\n",
       "      <th>pc2</th>\n",
       "      <th>pc3</th>\n",
       "      <th>pc4</th>\n",
       "      <th>pc5</th>\n",
       "      <th>pc6</th>\n",
       "      <th>pc7</th>\n",
       "      <th>pc8</th>\n",
       "      <th>pc9</th>\n",
       "      <th>pc10</th>\n",
       "      <th>target</th>\n",
       "    </tr>\n",
       "  </thead>\n",
       "  <tbody>\n",
       "    <tr>\n",
       "      <th>count</th>\n",
       "      <td>707.000000</td>\n",
       "      <td>7.070000e+02</td>\n",
       "      <td>7.070000e+02</td>\n",
       "      <td>7.070000e+02</td>\n",
       "      <td>7.070000e+02</td>\n",
       "      <td>7.070000e+02</td>\n",
       "      <td>7.070000e+02</td>\n",
       "      <td>7.070000e+02</td>\n",
       "      <td>7.070000e+02</td>\n",
       "      <td>7.070000e+02</td>\n",
       "      <td>7.070000e+02</td>\n",
       "      <td>707.000000</td>\n",
       "    </tr>\n",
       "    <tr>\n",
       "      <th>mean</th>\n",
       "      <td>353.000000</td>\n",
       "      <td>-1.256264e-17</td>\n",
       "      <td>2.638154e-16</td>\n",
       "      <td>6.689604e-17</td>\n",
       "      <td>-1.127497e-16</td>\n",
       "      <td>5.873033e-17</td>\n",
       "      <td>-1.334780e-17</td>\n",
       "      <td>3.745236e-17</td>\n",
       "      <td>1.515368e-17</td>\n",
       "      <td>7.883055e-17</td>\n",
       "      <td>-8.008681e-18</td>\n",
       "      <td>0.309760</td>\n",
       "    </tr>\n",
       "    <tr>\n",
       "      <th>std</th>\n",
       "      <td>204.237607</td>\n",
       "      <td>3.071608e+00</td>\n",
       "      <td>2.961820e+00</td>\n",
       "      <td>1.919978e+00</td>\n",
       "      <td>1.514968e+00</td>\n",
       "      <td>1.210683e+00</td>\n",
       "      <td>9.844647e-01</td>\n",
       "      <td>8.018145e-01</td>\n",
       "      <td>7.517227e-01</td>\n",
       "      <td>6.593221e-01</td>\n",
       "      <td>6.125629e-01</td>\n",
       "      <td>0.462722</td>\n",
       "    </tr>\n",
       "    <tr>\n",
       "      <th>min</th>\n",
       "      <td>0.000000</td>\n",
       "      <td>-5.737279e+00</td>\n",
       "      <td>-7.370550e+00</td>\n",
       "      <td>-4.055472e+00</td>\n",
       "      <td>-3.377520e+00</td>\n",
       "      <td>-3.517539e+00</td>\n",
       "      <td>-4.267489e+00</td>\n",
       "      <td>-2.814507e+00</td>\n",
       "      <td>-2.783766e+00</td>\n",
       "      <td>-2.869700e+00</td>\n",
       "      <td>-3.043301e+00</td>\n",
       "      <td>0.000000</td>\n",
       "    </tr>\n",
       "    <tr>\n",
       "      <th>25%</th>\n",
       "      <td>176.500000</td>\n",
       "      <td>-2.542896e+00</td>\n",
       "      <td>-2.050597e+00</td>\n",
       "      <td>-1.260120e+00</td>\n",
       "      <td>-8.269360e-01</td>\n",
       "      <td>-7.527204e-01</td>\n",
       "      <td>-4.715905e-01</td>\n",
       "      <td>-4.191576e-01</td>\n",
       "      <td>-4.667277e-01</td>\n",
       "      <td>-4.536531e-01</td>\n",
       "      <td>-3.157654e-01</td>\n",
       "      <td>0.000000</td>\n",
       "    </tr>\n",
       "    <tr>\n",
       "      <th>50%</th>\n",
       "      <td>353.000000</td>\n",
       "      <td>-5.220181e-01</td>\n",
       "      <td>-3.295635e-01</td>\n",
       "      <td>-3.267263e-01</td>\n",
       "      <td>-3.613712e-02</td>\n",
       "      <td>-8.327131e-02</td>\n",
       "      <td>-8.049774e-02</td>\n",
       "      <td>1.724362e-02</td>\n",
       "      <td>-8.353459e-02</td>\n",
       "      <td>6.633541e-02</td>\n",
       "      <td>3.007257e-03</td>\n",
       "      <td>0.000000</td>\n",
       "    </tr>\n",
       "    <tr>\n",
       "      <th>75%</th>\n",
       "      <td>529.500000</td>\n",
       "      <td>2.669614e+00</td>\n",
       "      <td>2.345097e+00</td>\n",
       "      <td>1.557080e+00</td>\n",
       "      <td>9.833059e-01</td>\n",
       "      <td>8.092089e-01</td>\n",
       "      <td>5.681760e-01</td>\n",
       "      <td>5.563298e-01</td>\n",
       "      <td>4.069576e-01</td>\n",
       "      <td>3.583839e-01</td>\n",
       "      <td>4.035497e-01</td>\n",
       "      <td>1.000000</td>\n",
       "    </tr>\n",
       "    <tr>\n",
       "      <th>max</th>\n",
       "      <td>706.000000</td>\n",
       "      <td>1.231882e+01</td>\n",
       "      <td>1.652941e+01</td>\n",
       "      <td>1.223210e+01</td>\n",
       "      <td>6.476754e+00</td>\n",
       "      <td>3.901839e+00</td>\n",
       "      <td>6.610602e+00</td>\n",
       "      <td>3.250504e+00</td>\n",
       "      <td>5.860221e+00</td>\n",
       "      <td>3.661796e+00</td>\n",
       "      <td>3.196938e+00</td>\n",
       "      <td>1.000000</td>\n",
       "    </tr>\n",
       "  </tbody>\n",
       "</table>\n",
       "</div>"
      ],
      "text/plain": [
       "       Unnamed: 0           pc1           pc2           pc3           pc4  \\\n",
       "count  707.000000  7.070000e+02  7.070000e+02  7.070000e+02  7.070000e+02   \n",
       "mean   353.000000 -1.256264e-17  2.638154e-16  6.689604e-17 -1.127497e-16   \n",
       "std    204.237607  3.071608e+00  2.961820e+00  1.919978e+00  1.514968e+00   \n",
       "min      0.000000 -5.737279e+00 -7.370550e+00 -4.055472e+00 -3.377520e+00   \n",
       "25%    176.500000 -2.542896e+00 -2.050597e+00 -1.260120e+00 -8.269360e-01   \n",
       "50%    353.000000 -5.220181e-01 -3.295635e-01 -3.267263e-01 -3.613712e-02   \n",
       "75%    529.500000  2.669614e+00  2.345097e+00  1.557080e+00  9.833059e-01   \n",
       "max    706.000000  1.231882e+01  1.652941e+01  1.223210e+01  6.476754e+00   \n",
       "\n",
       "                pc5           pc6           pc7           pc8           pc9  \\\n",
       "count  7.070000e+02  7.070000e+02  7.070000e+02  7.070000e+02  7.070000e+02   \n",
       "mean   5.873033e-17 -1.334780e-17  3.745236e-17  1.515368e-17  7.883055e-17   \n",
       "std    1.210683e+00  9.844647e-01  8.018145e-01  7.517227e-01  6.593221e-01   \n",
       "min   -3.517539e+00 -4.267489e+00 -2.814507e+00 -2.783766e+00 -2.869700e+00   \n",
       "25%   -7.527204e-01 -4.715905e-01 -4.191576e-01 -4.667277e-01 -4.536531e-01   \n",
       "50%   -8.327131e-02 -8.049774e-02  1.724362e-02 -8.353459e-02  6.633541e-02   \n",
       "75%    8.092089e-01  5.681760e-01  5.563298e-01  4.069576e-01  3.583839e-01   \n",
       "max    3.901839e+00  6.610602e+00  3.250504e+00  5.860221e+00  3.661796e+00   \n",
       "\n",
       "               pc10      target  \n",
       "count  7.070000e+02  707.000000  \n",
       "mean  -8.008681e-18    0.309760  \n",
       "std    6.125629e-01    0.462722  \n",
       "min   -3.043301e+00    0.000000  \n",
       "25%   -3.157654e-01    0.000000  \n",
       "50%    3.007257e-03    0.000000  \n",
       "75%    4.035497e-01    1.000000  \n",
       "max    3.196938e+00    1.000000  "
      ]
     },
     "execution_count": 5,
     "metadata": {},
     "output_type": "execute_result"
    }
   ],
   "source": [
    "df.describe()"
   ]
  },
  {
   "cell_type": "code",
   "execution_count": 6,
   "metadata": {},
   "outputs": [
    {
     "data": {
      "image/png": "[encoded data removed]",
      "text/plain": [
       "<Figure size 864x1800 with 12 Axes>"
      ]
     },
     "metadata": {
      "needs_background": "light"
     },
     "output_type": "display_data"
    }
   ],
   "source": [
    "df.hist(figsize = (12, 25))\n",
    "plt.show()"
   ]
  },
  {
   "cell_type": "code",
   "execution_count": 7,
   "metadata": {},
   "outputs": [
    {
     "data": {
      "text/plain": [
       "0.4487704918032787"
      ]
     },
     "execution_count": 7,
     "metadata": {},
     "output_type": "execute_result"
    }
   ],
   "source": [
    "good = df[df['target']==0]\n",
    "bad = df[df['target']==1]\n",
    "\n",
    "outlier_fraction = len(bad)/float(len(good))\n",
    "outlier_fraction"
   ]
  },
  {
   "cell_type": "code",
   "execution_count": 8,
   "metadata": {},
   "outputs": [
    {
     "name": "stdout",
     "output_type": "stream",
     "text": [
      "No. of normal : 488\n",
      "No. of anomaly : 219\n"
     ]
    }
   ],
   "source": [
    "print(\"No. of normal : {}\".format(len(good)))\n",
    "print(\"No. of anomaly : {}\".format(len(bad)))"
   ]
  },
  {
   "cell_type": "code",
   "execution_count": 9,
   "metadata": {},
   "outputs": [
    {
     "data": {
      "image/png": "[encoded data removed]",
      "text/plain": [
       "<Figure size 864x720 with 2 Axes>"
      ]
     },
     "metadata": {
      "needs_background": "light"
     },
     "output_type": "display_data"
    }
   ],
   "source": [
    "corrmat = df.corr()\n",
    "fig = plt.figure(figsize = (12, 10))\n",
    "sns.heatmap(corrmat, vmax = 0.8, square = True)\n",
    "plt.show()"
   ]
  },
  {
   "cell_type": "code",
   "execution_count": 10,
   "metadata": {},
   "outputs": [],
   "source": [
    "columns = df.columns.tolist()\n",
    "columns = [c for c in columns if c not in ['target']]\n",
    "target = 'target'"
   ]
  },
  {
   "cell_type": "code",
   "execution_count": 11,
   "metadata": {},
   "outputs": [
    {
     "data": {
      "text/plain": [
       "['Unnamed: 0',\n",
       " 'pc1',\n",
       " 'pc2',\n",
       " 'pc3',\n",
       " 'pc4',\n",
       " 'pc5',\n",
       " 'pc6',\n",
       " 'pc7',\n",
       " 'pc8',\n",
       " 'pc9',\n",
       " 'pc10']"
      ]
     },
     "execution_count": 11,
     "metadata": {},
     "output_type": "execute_result"
    }
   ],
   "source": [
    "columns"
   ]
  },
  {
   "cell_type": "code",
   "execution_count": 12,
   "metadata": {},
   "outputs": [
    {
     "name": "stdout",
     "output_type": "stream",
     "text": [
      "(707, 11)\n",
      "(707,)\n"
     ]
    }
   ],
   "source": [
    "X = df[columns]\n",
    "y = df[target]\n",
    "print(X.shape)\n",
    "print(y.shape)"
   ]
  },
  {
   "cell_type": "code",
   "execution_count": 13,
   "metadata": {},
   "outputs": [],
   "source": [
    "from sklearn.metrics import classification_report, accuracy_score\n",
    "from sklearn.ensemble import IsolationForest\n",
    "from sklearn.neighbors import LocalOutlierFactor"
   ]
  },
  {
   "cell_type": "code",
   "execution_count": 14,
   "metadata": {},
   "outputs": [
    {
     "name": "stderr",
     "output_type": "stream",
     "text": [
      "C:\\Users\\Acer\\Anaconda3\\lib\\site-packages\\sklearn\\ensemble\\iforest.py:223: FutureWarning: behaviour=\"old\" is deprecated and will be removed in version 0.22. Please use behaviour=\"new\", which makes the decision_function change to match other anomaly detection algorithm API.\n",
      "  FutureWarning)\n"
     ]
    },
    {
     "name": "stdout",
     "output_type": "stream",
     "text": [
      "Isolation Forest: 412\n",
      "Accuracy Score : 0.41725601131541723\n",
      "              precision    recall  f1-score   support\n",
      "\n",
      "           0       0.60      0.48      0.53       488\n",
      "           1       0.20      0.28      0.23       219\n",
      "\n",
      "   micro avg       0.42      0.42      0.42       707\n",
      "   macro avg       0.40      0.38      0.38       707\n",
      "weighted avg       0.47      0.42      0.44       707\n",
      "\n",
      "Local Outlier Factor: 348\n",
      "Accuracy Score : 0.5077793493635078\n",
      "              precision    recall  f1-score   support\n",
      "\n",
      "           0       0.65      0.62      0.64       488\n",
      "           1       0.23      0.25      0.24       219\n",
      "\n",
      "   micro avg       0.51      0.51      0.51       707\n",
      "   macro avg       0.44      0.44      0.44       707\n",
      "weighted avg       0.52      0.51      0.51       707\n",
      "\n"
     ]
    },
    {
     "name": "stderr",
     "output_type": "stream",
     "text": [
      "C:\\Users\\Acer\\Anaconda3\\lib\\site-packages\\sklearn\\ensemble\\iforest.py:417: DeprecationWarning: threshold_ attribute is deprecated in 0.20 and will be removed in 0.22.\n",
      "  \" be removed in 0.22.\", DeprecationWarning)\n"
     ]
    }
   ],
   "source": [
    "classifiers = {\n",
    "    \"Isolation Forest\": IsolationForest(max_samples = len(X), contamination = outlier_fraction, random_state = 1 ),\n",
    "    \"Local Outlier Factor\" : LocalOutlierFactor(n_neighbors = 20, contamination = outlier_fraction )\n",
    "}\n",
    "#fiting the data into different model and predicting the output \n",
    "n_outlier = len(bad)\n",
    "for i, (clf_name, clf) in enumerate(classifiers.items()):\n",
    "    if clf_name == \"Local Outlier Factor\":\n",
    "        y_pred = clf.fit_predict(X)\n",
    "        scores_pred = clf.negative_outlier_factor_\n",
    "    else:\n",
    "        clf.fit(X)\n",
    "        scores_pred = clf.decision_function(X)\n",
    "        y_pred = clf.predict(X)\n",
    "    y_pred[y_pred == 1] = 0\n",
    "    y_pred[y_pred == -1] = 1\n",
    "    n_errors = (y_pred != y).sum()\n",
    "    print('{}: {}'.format(clf_name, n_errors))\n",
    "    print('Accuracy Score : {}'.format(accuracy_score(y, y_pred)))\n",
    "    print((classification_report(y, y_pred)))"
   ]
  },
  {
   "cell_type": "code",
   "execution_count": 15,
   "metadata": {},
   "outputs": [
    {
     "data": {
      "image/png": "[encoded data removed]",
      "text/plain": [
       "<Figure size 432x288 with 1 Axes>"
      ]
     },
     "metadata": {
      "needs_background": "light"
     },
     "output_type": "display_data"
    }
   ],
   "source": [
    "from sklearn.datasets import load_breast_cancer\n",
    "X, y  = load_breast_cancer(return_X_y=True)\n",
    "\n",
    "from sklearn.ensemble import IsolationForest\n",
    "\n",
    "clf = IsolationForest(behaviour='new', max_samples=100,\n",
    "                      random_state=0, contamination='auto')\n",
    "clf.fit(X)\n",
    "y_pred = clf.score_samples(X)\n",
    "\n",
    "from sklearn.metrics import roc_curve\n",
    "fpr, tpr, thresholds = roc_curve(y,y_pred)\n",
    "import matplotlib.pyplot as plt\n",
    "plt.plot(fpr, tpr, 'k-', lw=2)\n",
    "plt.xlabel('FPR')\n",
    "plt.ylabel('TPR')\n",
    "plt.show()"
   ]
  },
  {
   "cell_type": "code",
   "execution_count": null,
   "metadata": {},
   "outputs": [],
   "source": []
  }
 ],
 "metadata": {
  "kernelspec": {
   "display_name": "Python 3",
   "language": "python",
   "name": "python3"
  },
  "language_info": {
   "codemirror_mode": {
    "name": "ipython",
    "version": 3
   },
   "file_extension": ".py",
   "mimetype": "text/x-python",
   "name": "python",
   "nbconvert_exporter": "python",
   "pygments_lexer": "ipython3",
   "version": "3.7.1"
  }
 },
 "nbformat": 4,
 "nbformat_minor": 2
}
