{
 "cells": [
  {
   "cell_type": "code",
   "execution_count": 7,
   "metadata": {},
   "outputs": [],
   "source": [
    "import numpy as np\n",
    "import pandas as pd\n",
    "import matplotlib.pyplot as plt\n",
    "from sklearn.datasets import make_hastie_10_2\n",
    "import os"
   ]
  },
  {
   "cell_type": "code",
   "execution_count": 8,
   "metadata": {},
   "outputs": [],
   "source": [
    "from sklearn.preprocessing import StandardScaler as ss"
   ]
  },
  {
   "cell_type": "code",
   "execution_count": 9,
   "metadata": {},
   "outputs": [],
   "source": [
    "from sklearn.metrics import accuracy_score\n",
    "from sklearn.metrics import auc, roc_curve\n",
    "from sklearn.metrics import confusion_matrix\n",
    "from sklearn.metrics import precision_recall_fscore_support\n",
    "from sklearn.model_selection import train_test_split"
   ]
  },
  {
   "cell_type": "code",
   "execution_count": 10,
   "metadata": {},
   "outputs": [],
   "source": [
    "from sklearn.decomposition import PCA"
   ]
  },
  {
   "cell_type": "code",
   "execution_count": 11,
   "metadata": {},
   "outputs": [],
   "source": [
    "data = pd.read_csv(\"corona.csv\")"
   ]
  },
  {
   "cell_type": "code",
   "execution_count": 12,
   "metadata": {},
   "outputs": [
    {
     "data": {
      "text/plain": [
       "(316800, 27)"
      ]
     },
     "execution_count": 12,
     "metadata": {},
     "output_type": "execute_result"
    }
   ],
   "source": [
    "data.shape"
   ]
  },
  {
   "cell_type": "code",
   "execution_count": 13,
   "metadata": {},
   "outputs": [
    {
     "data": {
      "text/html": [
       "<div>\n",
       "<style scoped>\n",
       "    .dataframe tbody tr th:only-of-type {\n",
       "        vertical-align: middle;\n",
       "    }\n",
       "\n",
       "    .dataframe tbody tr th {\n",
       "        vertical-align: top;\n",
       "    }\n",
       "\n",
       "    .dataframe thead th {\n",
       "        text-align: right;\n",
       "    }\n",
       "</style>\n",
       "<table border=\"1\" class=\"dataframe\">\n",
       "  <thead>\n",
       "    <tr style=\"text-align: right;\">\n",
       "      <th></th>\n",
       "      <th>Fever</th>\n",
       "      <th>Tiredness</th>\n",
       "      <th>Dry-Cough</th>\n",
       "      <th>Difficulty-in-Breathing</th>\n",
       "      <th>Sore-Throat</th>\n",
       "      <th>None_Sympton</th>\n",
       "      <th>Pains</th>\n",
       "      <th>Nasal-Congestion</th>\n",
       "      <th>Runny-Nose</th>\n",
       "      <th>Diarrhea</th>\n",
       "      <th>...</th>\n",
       "      <th>Gender_Male</th>\n",
       "      <th>Gender_Transgender</th>\n",
       "      <th>Severity_Mild</th>\n",
       "      <th>Severity_Moderate</th>\n",
       "      <th>Severity_None</th>\n",
       "      <th>Severity_Severe</th>\n",
       "      <th>Contact_Dont-Know</th>\n",
       "      <th>Contact_No</th>\n",
       "      <th>Contact_Yes</th>\n",
       "      <th>Country</th>\n",
       "    </tr>\n",
       "  </thead>\n",
       "  <tbody>\n",
       "    <tr>\n",
       "      <th>0</th>\n",
       "      <td>1</td>\n",
       "      <td>1</td>\n",
       "      <td>1</td>\n",
       "      <td>1</td>\n",
       "      <td>1</td>\n",
       "      <td>0</td>\n",
       "      <td>1</td>\n",
       "      <td>1</td>\n",
       "      <td>1</td>\n",
       "      <td>1</td>\n",
       "      <td>...</td>\n",
       "      <td>1</td>\n",
       "      <td>0</td>\n",
       "      <td>1</td>\n",
       "      <td>0</td>\n",
       "      <td>0</td>\n",
       "      <td>0</td>\n",
       "      <td>0</td>\n",
       "      <td>0</td>\n",
       "      <td>1</td>\n",
       "      <td>China</td>\n",
       "    </tr>\n",
       "    <tr>\n",
       "      <th>1</th>\n",
       "      <td>1</td>\n",
       "      <td>1</td>\n",
       "      <td>1</td>\n",
       "      <td>1</td>\n",
       "      <td>1</td>\n",
       "      <td>0</td>\n",
       "      <td>1</td>\n",
       "      <td>1</td>\n",
       "      <td>1</td>\n",
       "      <td>1</td>\n",
       "      <td>...</td>\n",
       "      <td>1</td>\n",
       "      <td>0</td>\n",
       "      <td>1</td>\n",
       "      <td>0</td>\n",
       "      <td>0</td>\n",
       "      <td>0</td>\n",
       "      <td>0</td>\n",
       "      <td>1</td>\n",
       "      <td>0</td>\n",
       "      <td>China</td>\n",
       "    </tr>\n",
       "    <tr>\n",
       "      <th>2</th>\n",
       "      <td>1</td>\n",
       "      <td>1</td>\n",
       "      <td>1</td>\n",
       "      <td>1</td>\n",
       "      <td>1</td>\n",
       "      <td>0</td>\n",
       "      <td>1</td>\n",
       "      <td>1</td>\n",
       "      <td>1</td>\n",
       "      <td>1</td>\n",
       "      <td>...</td>\n",
       "      <td>1</td>\n",
       "      <td>0</td>\n",
       "      <td>1</td>\n",
       "      <td>0</td>\n",
       "      <td>0</td>\n",
       "      <td>0</td>\n",
       "      <td>1</td>\n",
       "      <td>0</td>\n",
       "      <td>0</td>\n",
       "      <td>China</td>\n",
       "    </tr>\n",
       "    <tr>\n",
       "      <th>3</th>\n",
       "      <td>1</td>\n",
       "      <td>1</td>\n",
       "      <td>1</td>\n",
       "      <td>1</td>\n",
       "      <td>1</td>\n",
       "      <td>0</td>\n",
       "      <td>1</td>\n",
       "      <td>1</td>\n",
       "      <td>1</td>\n",
       "      <td>1</td>\n",
       "      <td>...</td>\n",
       "      <td>1</td>\n",
       "      <td>0</td>\n",
       "      <td>0</td>\n",
       "      <td>1</td>\n",
       "      <td>0</td>\n",
       "      <td>0</td>\n",
       "      <td>0</td>\n",
       "      <td>0</td>\n",
       "      <td>1</td>\n",
       "      <td>China</td>\n",
       "    </tr>\n",
       "    <tr>\n",
       "      <th>4</th>\n",
       "      <td>1</td>\n",
       "      <td>1</td>\n",
       "      <td>1</td>\n",
       "      <td>1</td>\n",
       "      <td>1</td>\n",
       "      <td>0</td>\n",
       "      <td>1</td>\n",
       "      <td>1</td>\n",
       "      <td>1</td>\n",
       "      <td>1</td>\n",
       "      <td>...</td>\n",
       "      <td>1</td>\n",
       "      <td>0</td>\n",
       "      <td>0</td>\n",
       "      <td>1</td>\n",
       "      <td>0</td>\n",
       "      <td>0</td>\n",
       "      <td>0</td>\n",
       "      <td>1</td>\n",
       "      <td>0</td>\n",
       "      <td>China</td>\n",
       "    </tr>\n",
       "  </tbody>\n",
       "</table>\n",
       "<p>5 rows × 27 columns</p>\n",
       "</div>"
      ],
      "text/plain": [
       "   Fever  Tiredness  Dry-Cough  Difficulty-in-Breathing  Sore-Throat  \\\n",
       "0      1          1          1                        1            1   \n",
       "1      1          1          1                        1            1   \n",
       "2      1          1          1                        1            1   \n",
       "3      1          1          1                        1            1   \n",
       "4      1          1          1                        1            1   \n",
       "\n",
       "   None_Sympton  Pains  Nasal-Congestion  Runny-Nose  Diarrhea   ...     \\\n",
       "0             0      1                 1           1         1   ...      \n",
       "1             0      1                 1           1         1   ...      \n",
       "2             0      1                 1           1         1   ...      \n",
       "3             0      1                 1           1         1   ...      \n",
       "4             0      1                 1           1         1   ...      \n",
       "\n",
       "   Gender_Male  Gender_Transgender  Severity_Mild  Severity_Moderate  \\\n",
       "0            1                   0              1                  0   \n",
       "1            1                   0              1                  0   \n",
       "2            1                   0              1                  0   \n",
       "3            1                   0              0                  1   \n",
       "4            1                   0              0                  1   \n",
       "\n",
       "   Severity_None  Severity_Severe  Contact_Dont-Know  Contact_No  Contact_Yes  \\\n",
       "0              0                0                  0           0            1   \n",
       "1              0                0                  0           1            0   \n",
       "2              0                0                  1           0            0   \n",
       "3              0                0                  0           0            1   \n",
       "4              0                0                  0           1            0   \n",
       "\n",
       "   Country  \n",
       "0    China  \n",
       "1    China  \n",
       "2    China  \n",
       "3    China  \n",
       "4    China  \n",
       "\n",
       "[5 rows x 27 columns]"
      ]
     },
     "execution_count": 13,
     "metadata": {},
     "output_type": "execute_result"
    }
   ],
   "source": [
    "data.head()"
   ]
  },
  {
   "cell_type": "code",
   "execution_count": 14,
   "metadata": {},
   "outputs": [],
   "source": [
    "X = df.loc[: , 'Fever':'Contact_Yes']\n",
    "y = df.loc[:, 'Severity_Severe']"
   ]
  },
  {
   "cell_type": "code",
   "execution_count": 15,
   "metadata": {},
   "outputs": [
    {
     "name": "stderr",
     "output_type": "stream",
     "text": [
      "C:\\Users\\Acer\\Anaconda3\\lib\\site-packages\\sklearn\\preprocessing\\data.py:625: DataConversionWarning: Data with input dtype int64 were all converted to float64 by StandardScaler.\n",
      "  return self.partial_fit(X, y)\n",
      "C:\\Users\\Acer\\Anaconda3\\lib\\site-packages\\sklearn\\base.py:462: DataConversionWarning: Data with input dtype int64 were all converted to float64 by StandardScaler.\n",
      "  return self.fit(X, **fit_params).transform(X)\n"
     ]
    }
   ],
   "source": [
    "scale = ss()\n",
    "X = scale.fit_transform(X)"
   ]
  },
  {
   "cell_type": "code",
   "execution_count": 16,
   "metadata": {},
   "outputs": [
    {
     "data": {
      "text/plain": [
       "(316800, 26)"
      ]
     },
     "execution_count": 16,
     "metadata": {},
     "output_type": "execute_result"
    }
   ],
   "source": [
    "pca = PCA()\n",
    "out = pca.fit_transform(X)\n",
    "out.shape"
   ]
  },
  {
   "cell_type": "code",
   "execution_count": 18,
   "metadata": {},
   "outputs": [
    {
     "data": {
      "image/png": "[encoded data removed]",
      "text/plain": [
       "<Figure size 432x288 with 1 Axes>"
      ]
     },
     "metadata": {},
     "output_type": "display_data"
    },
    {
     "data": {
      "text/plain": [
       "None"
      ]
     },
     "metadata": {},
     "output_type": "display_data"
    },
    {
     "data": {
      "text/html": [
       "<div>\n",
       "<style scoped>\n",
       "    .dataframe tbody tr th:only-of-type {\n",
       "        vertical-align: middle;\n",
       "    }\n",
       "\n",
       "    .dataframe tbody tr th {\n",
       "        vertical-align: top;\n",
       "    }\n",
       "\n",
       "    .dataframe thead th {\n",
       "        text-align: right;\n",
       "    }\n",
       "</style>\n",
       "<table border=\"1\" class=\"dataframe\">\n",
       "  <thead>\n",
       "    <tr style=\"text-align: right;\">\n",
       "      <th></th>\n",
       "      <th>Cumulative Variance Ratio</th>\n",
       "      <th>Explained Variance Ratio</th>\n",
       "    </tr>\n",
       "  </thead>\n",
       "  <tbody>\n",
       "    <tr>\n",
       "      <th>0</th>\n",
       "      <td>0.073493</td>\n",
       "      <td>0.073493</td>\n",
       "    </tr>\n",
       "    <tr>\n",
       "      <th>1</th>\n",
       "      <td>0.142867</td>\n",
       "      <td>0.069374</td>\n",
       "    </tr>\n",
       "    <tr>\n",
       "      <th>2</th>\n",
       "      <td>0.205458</td>\n",
       "      <td>0.062590</td>\n",
       "    </tr>\n",
       "    <tr>\n",
       "      <th>3</th>\n",
       "      <td>0.263150</td>\n",
       "      <td>0.057692</td>\n",
       "    </tr>\n",
       "    <tr>\n",
       "      <th>4</th>\n",
       "      <td>0.320842</td>\n",
       "      <td>0.057692</td>\n",
       "    </tr>\n",
       "    <tr>\n",
       "      <th>5</th>\n",
       "      <td>0.378534</td>\n",
       "      <td>0.057692</td>\n",
       "    </tr>\n",
       "    <tr>\n",
       "      <th>6</th>\n",
       "      <td>0.436227</td>\n",
       "      <td>0.057692</td>\n",
       "    </tr>\n",
       "    <tr>\n",
       "      <th>7</th>\n",
       "      <td>0.489918</td>\n",
       "      <td>0.053691</td>\n",
       "    </tr>\n",
       "    <tr>\n",
       "      <th>8</th>\n",
       "      <td>0.541200</td>\n",
       "      <td>0.051282</td>\n",
       "    </tr>\n",
       "    <tr>\n",
       "      <th>9</th>\n",
       "      <td>0.592482</td>\n",
       "      <td>0.051282</td>\n",
       "    </tr>\n",
       "  </tbody>\n",
       "</table>\n",
       "</div>"
      ],
      "text/plain": [
       "   Cumulative Variance Ratio  Explained Variance Ratio\n",
       "0                   0.073493                  0.073493\n",
       "1                   0.142867                  0.069374\n",
       "2                   0.205458                  0.062590\n",
       "3                   0.263150                  0.057692\n",
       "4                   0.320842                  0.057692\n",
       "5                   0.378534                  0.057692\n",
       "6                   0.436227                  0.057692\n",
       "7                   0.489918                  0.053691\n",
       "8                   0.541200                  0.051282\n",
       "9                   0.592482                  0.051282"
      ]
     },
     "metadata": {},
     "output_type": "display_data"
    }
   ],
   "source": [
    "import matplotlib.pyplot as plt\n",
    "import seaborn as sns\n",
    "from sklearn.decomposition import PCA\n",
    "pca_test = PCA(n_components=25)\n",
    "pca_test.fit(X)\n",
    "sns.set(style='whitegrid')\n",
    "plt.plot(np.cumsum(pca_test.explained_variance_ratio_))\n",
    "plt.xlabel('number of components')\n",
    "plt.ylabel('cumulative explained variance')\n",
    "plt.axvline(linewidth=4, color='r', linestyle = '--', x=10, ymin=0, ymax=1)\n",
    "display(plt.show())\n",
    "evr = pca_test.explained_variance_ratio_\n",
    "cvr = np.cumsum(pca_test.explained_variance_ratio_)\n",
    "pca_df = pd.DataFrame()\n",
    "pca_df['Cumulative Variance Ratio'] = cvr\n",
    "pca_df['Explained Variance Ratio'] = evr\n",
    "display(pca_df.head(10))"
   ]
  },
  {
   "cell_type": "code",
   "execution_count": 19,
   "metadata": {},
   "outputs": [],
   "source": [
    "final_data = out[:, :10]"
   ]
  },
  {
   "cell_type": "code",
   "execution_count": 20,
   "metadata": {},
   "outputs": [
    {
     "data": {
      "text/plain": [
       "(316800, 10)"
      ]
     },
     "execution_count": 20,
     "metadata": {},
     "output_type": "execute_result"
    }
   ],
   "source": [
    "final_data.shape"
   ]
  },
  {
   "cell_type": "code",
   "execution_count": 21,
   "metadata": {},
   "outputs": [
    {
     "data": {
      "text/plain": [
       "array([[-2.09795881e+00, -1.81371350e+00,  2.19778661e-10,\n",
       "         1.55032583e+00,  1.72304843e+00, -3.03240036e-01,\n",
       "        -7.31873894e-01,  4.31755533e-14,  1.33662231e-03,\n",
       "         3.58203384e-01],\n",
       "       [-2.09795881e+00, -1.81371350e+00,  9.11343690e-13,\n",
       "         1.58574906e+00, -5.52542160e-01,  1.65052986e+00,\n",
       "        -6.75165366e-01,  1.37844546e-13,  1.33662231e-03,\n",
       "         3.58203384e-01],\n",
       "       [-2.09795881e+00, -1.81371350e+00, -7.90745309e-11,\n",
       "         1.58680019e+00, -1.10737875e+00, -1.29654915e+00,\n",
       "        -7.58114599e-01,  1.34884797e-13,  1.33662231e-03,\n",
       "         3.58203384e-01],\n",
       "       [-2.09795881e+00, -1.81371350e+00,  6.33431764e-11,\n",
       "         1.55032583e+00,  1.72304843e+00, -3.03240036e-01,\n",
       "        -7.31873894e-01,  4.50273526e-14,  1.66865693e+00,\n",
       "        -9.82713204e-01],\n",
       "       [-2.09795881e+00, -1.81371350e+00,  9.50967707e-13,\n",
       "         1.58574906e+00, -5.52542160e-01,  1.65052986e+00,\n",
       "        -6.75165366e-01,  2.42419562e-14,  1.66865693e+00,\n",
       "        -9.82713204e-01]])"
      ]
     },
     "execution_count": 21,
     "metadata": {},
     "output_type": "execute_result"
    }
   ],
   "source": [
    "final_data[:5,:]"
   ]
  },
  {
   "cell_type": "code",
   "execution_count": 22,
   "metadata": {},
   "outputs": [],
   "source": [
    "pcdf = pd.DataFrame( data =  final_data,\n",
    "                    columns = ['pc1', 'pc2','pc3', 'pc4','pc5','pc6','pc7','pc8','pc9','pc10'])"
   ]
  },
  {
   "cell_type": "code",
   "execution_count": 23,
   "metadata": {},
   "outputs": [
    {
     "data": {
      "text/html": [
       "<div>\n",
       "<style scoped>\n",
       "    .dataframe tbody tr th:only-of-type {\n",
       "        vertical-align: middle;\n",
       "    }\n",
       "\n",
       "    .dataframe tbody tr th {\n",
       "        vertical-align: top;\n",
       "    }\n",
       "\n",
       "    .dataframe thead th {\n",
       "        text-align: right;\n",
       "    }\n",
       "</style>\n",
       "<table border=\"1\" class=\"dataframe\">\n",
       "  <thead>\n",
       "    <tr style=\"text-align: right;\">\n",
       "      <th></th>\n",
       "      <th>pc1</th>\n",
       "      <th>pc2</th>\n",
       "      <th>pc3</th>\n",
       "      <th>pc4</th>\n",
       "      <th>pc5</th>\n",
       "      <th>pc6</th>\n",
       "      <th>pc7</th>\n",
       "      <th>pc8</th>\n",
       "      <th>pc9</th>\n",
       "      <th>pc10</th>\n",
       "    </tr>\n",
       "  </thead>\n",
       "  <tbody>\n",
       "    <tr>\n",
       "      <th>0</th>\n",
       "      <td>-2.097959</td>\n",
       "      <td>-1.813713</td>\n",
       "      <td>2.197787e-10</td>\n",
       "      <td>1.550326</td>\n",
       "      <td>1.723048</td>\n",
       "      <td>-0.303240</td>\n",
       "      <td>-0.731874</td>\n",
       "      <td>4.317555e-14</td>\n",
       "      <td>0.001337</td>\n",
       "      <td>0.358203</td>\n",
       "    </tr>\n",
       "    <tr>\n",
       "      <th>1</th>\n",
       "      <td>-2.097959</td>\n",
       "      <td>-1.813713</td>\n",
       "      <td>9.113437e-13</td>\n",
       "      <td>1.585749</td>\n",
       "      <td>-0.552542</td>\n",
       "      <td>1.650530</td>\n",
       "      <td>-0.675165</td>\n",
       "      <td>1.378445e-13</td>\n",
       "      <td>0.001337</td>\n",
       "      <td>0.358203</td>\n",
       "    </tr>\n",
       "    <tr>\n",
       "      <th>2</th>\n",
       "      <td>-2.097959</td>\n",
       "      <td>-1.813713</td>\n",
       "      <td>-7.907453e-11</td>\n",
       "      <td>1.586800</td>\n",
       "      <td>-1.107379</td>\n",
       "      <td>-1.296549</td>\n",
       "      <td>-0.758115</td>\n",
       "      <td>1.348848e-13</td>\n",
       "      <td>0.001337</td>\n",
       "      <td>0.358203</td>\n",
       "    </tr>\n",
       "    <tr>\n",
       "      <th>3</th>\n",
       "      <td>-2.097959</td>\n",
       "      <td>-1.813713</td>\n",
       "      <td>6.334318e-11</td>\n",
       "      <td>1.550326</td>\n",
       "      <td>1.723048</td>\n",
       "      <td>-0.303240</td>\n",
       "      <td>-0.731874</td>\n",
       "      <td>4.502735e-14</td>\n",
       "      <td>1.668657</td>\n",
       "      <td>-0.982713</td>\n",
       "    </tr>\n",
       "    <tr>\n",
       "      <th>4</th>\n",
       "      <td>-2.097959</td>\n",
       "      <td>-1.813713</td>\n",
       "      <td>9.509677e-13</td>\n",
       "      <td>1.585749</td>\n",
       "      <td>-0.552542</td>\n",
       "      <td>1.650530</td>\n",
       "      <td>-0.675165</td>\n",
       "      <td>2.424196e-14</td>\n",
       "      <td>1.668657</td>\n",
       "      <td>-0.982713</td>\n",
       "    </tr>\n",
       "  </tbody>\n",
       "</table>\n",
       "</div>"
      ],
      "text/plain": [
       "        pc1       pc2           pc3       pc4       pc5       pc6       pc7  \\\n",
       "0 -2.097959 -1.813713  2.197787e-10  1.550326  1.723048 -0.303240 -0.731874   \n",
       "1 -2.097959 -1.813713  9.113437e-13  1.585749 -0.552542  1.650530 -0.675165   \n",
       "2 -2.097959 -1.813713 -7.907453e-11  1.586800 -1.107379 -1.296549 -0.758115   \n",
       "3 -2.097959 -1.813713  6.334318e-11  1.550326  1.723048 -0.303240 -0.731874   \n",
       "4 -2.097959 -1.813713  9.509677e-13  1.585749 -0.552542  1.650530 -0.675165   \n",
       "\n",
       "            pc8       pc9      pc10  \n",
       "0  4.317555e-14  0.001337  0.358203  \n",
       "1  1.378445e-13  0.001337  0.358203  \n",
       "2  1.348848e-13  0.001337  0.358203  \n",
       "3  4.502735e-14  1.668657 -0.982713  \n",
       "4  2.424196e-14  1.668657 -0.982713  "
      ]
     },
     "execution_count": 23,
     "metadata": {},
     "output_type": "execute_result"
    }
   ],
   "source": [
    "pcdf.head()"
   ]
  },
  {
   "cell_type": "code",
   "execution_count": 24,
   "metadata": {},
   "outputs": [],
   "source": [
    "pcdf['target'] = data['Severity_Severe'].map({\"1\":1,\"0\":0})"
   ]
  },
  {
   "cell_type": "code",
   "execution_count": 25,
   "metadata": {},
   "outputs": [
    {
     "data": {
      "text/html": [
       "<div>\n",
       "<style scoped>\n",
       "    .dataframe tbody tr th:only-of-type {\n",
       "        vertical-align: middle;\n",
       "    }\n",
       "\n",
       "    .dataframe tbody tr th {\n",
       "        vertical-align: top;\n",
       "    }\n",
       "\n",
       "    .dataframe thead th {\n",
       "        text-align: right;\n",
       "    }\n",
       "</style>\n",
       "<table border=\"1\" class=\"dataframe\">\n",
       "  <thead>\n",
       "    <tr style=\"text-align: right;\">\n",
       "      <th></th>\n",
       "      <th>pc1</th>\n",
       "      <th>pc2</th>\n",
       "      <th>pc3</th>\n",
       "      <th>pc4</th>\n",
       "      <th>pc5</th>\n",
       "      <th>pc6</th>\n",
       "      <th>pc7</th>\n",
       "      <th>pc8</th>\n",
       "      <th>pc9</th>\n",
       "      <th>pc10</th>\n",
       "      <th>target</th>\n",
       "    </tr>\n",
       "  </thead>\n",
       "  <tbody>\n",
       "    <tr>\n",
       "      <th>0</th>\n",
       "      <td>-2.097959</td>\n",
       "      <td>-1.813713</td>\n",
       "      <td>2.197787e-10</td>\n",
       "      <td>1.550326</td>\n",
       "      <td>1.723048</td>\n",
       "      <td>-0.303240</td>\n",
       "      <td>-0.731874</td>\n",
       "      <td>4.317555e-14</td>\n",
       "      <td>0.001337</td>\n",
       "      <td>0.358203</td>\n",
       "      <td>NaN</td>\n",
       "    </tr>\n",
       "    <tr>\n",
       "      <th>1</th>\n",
       "      <td>-2.097959</td>\n",
       "      <td>-1.813713</td>\n",
       "      <td>9.113437e-13</td>\n",
       "      <td>1.585749</td>\n",
       "      <td>-0.552542</td>\n",
       "      <td>1.650530</td>\n",
       "      <td>-0.675165</td>\n",
       "      <td>1.378445e-13</td>\n",
       "      <td>0.001337</td>\n",
       "      <td>0.358203</td>\n",
       "      <td>NaN</td>\n",
       "    </tr>\n",
       "    <tr>\n",
       "      <th>2</th>\n",
       "      <td>-2.097959</td>\n",
       "      <td>-1.813713</td>\n",
       "      <td>-7.907453e-11</td>\n",
       "      <td>1.586800</td>\n",
       "      <td>-1.107379</td>\n",
       "      <td>-1.296549</td>\n",
       "      <td>-0.758115</td>\n",
       "      <td>1.348848e-13</td>\n",
       "      <td>0.001337</td>\n",
       "      <td>0.358203</td>\n",
       "      <td>NaN</td>\n",
       "    </tr>\n",
       "    <tr>\n",
       "      <th>3</th>\n",
       "      <td>-2.097959</td>\n",
       "      <td>-1.813713</td>\n",
       "      <td>6.334318e-11</td>\n",
       "      <td>1.550326</td>\n",
       "      <td>1.723048</td>\n",
       "      <td>-0.303240</td>\n",
       "      <td>-0.731874</td>\n",
       "      <td>4.502735e-14</td>\n",
       "      <td>1.668657</td>\n",
       "      <td>-0.982713</td>\n",
       "      <td>NaN</td>\n",
       "    </tr>\n",
       "    <tr>\n",
       "      <th>4</th>\n",
       "      <td>-2.097959</td>\n",
       "      <td>-1.813713</td>\n",
       "      <td>9.509677e-13</td>\n",
       "      <td>1.585749</td>\n",
       "      <td>-0.552542</td>\n",
       "      <td>1.650530</td>\n",
       "      <td>-0.675165</td>\n",
       "      <td>2.424196e-14</td>\n",
       "      <td>1.668657</td>\n",
       "      <td>-0.982713</td>\n",
       "      <td>NaN</td>\n",
       "    </tr>\n",
       "  </tbody>\n",
       "</table>\n",
       "</div>"
      ],
      "text/plain": [
       "        pc1       pc2           pc3       pc4       pc5       pc6       pc7  \\\n",
       "0 -2.097959 -1.813713  2.197787e-10  1.550326  1.723048 -0.303240 -0.731874   \n",
       "1 -2.097959 -1.813713  9.113437e-13  1.585749 -0.552542  1.650530 -0.675165   \n",
       "2 -2.097959 -1.813713 -7.907453e-11  1.586800 -1.107379 -1.296549 -0.758115   \n",
       "3 -2.097959 -1.813713  6.334318e-11  1.550326  1.723048 -0.303240 -0.731874   \n",
       "4 -2.097959 -1.813713  9.509677e-13  1.585749 -0.552542  1.650530 -0.675165   \n",
       "\n",
       "            pc8       pc9      pc10  target  \n",
       "0  4.317555e-14  0.001337  0.358203     NaN  \n",
       "1  1.378445e-13  0.001337  0.358203     NaN  \n",
       "2  1.348848e-13  0.001337  0.358203     NaN  \n",
       "3  4.502735e-14  1.668657 -0.982713     NaN  \n",
       "4  2.424196e-14  1.668657 -0.982713     NaN  "
      ]
     },
     "execution_count": 25,
     "metadata": {},
     "output_type": "execute_result"
    }
   ],
   "source": [
    "pcdf.head()"
   ]
  },
  {
   "cell_type": "code",
   "execution_count": 26,
   "metadata": {},
   "outputs": [],
   "source": [
    "pcdf[\"target\"].fillna('0',limit=268000, inplace = True)\n",
    "pcdf[\"target\"].fillna('1',limit=48800, inplace = True)\n",
    "pcdf\n",
    "pcdf.to_csv('coronapca.csv')"
   ]
  },
  {
   "cell_type": "code",
   "execution_count": 27,
   "metadata": {},
   "outputs": [],
   "source": [
    "X = pcdf.loc[: , 'pc1':'pc10']\n",
    "y = pcdf.loc[:,'target']"
   ]
  },
  {
   "cell_type": "code",
   "execution_count": 28,
   "metadata": {},
   "outputs": [
    {
     "data": {
      "text/html": [
       "<div>\n",
       "<style scoped>\n",
       "    .dataframe tbody tr th:only-of-type {\n",
       "        vertical-align: middle;\n",
       "    }\n",
       "\n",
       "    .dataframe tbody tr th {\n",
       "        vertical-align: top;\n",
       "    }\n",
       "\n",
       "    .dataframe thead th {\n",
       "        text-align: right;\n",
       "    }\n",
       "</style>\n",
       "<table border=\"1\" class=\"dataframe\">\n",
       "  <thead>\n",
       "    <tr style=\"text-align: right;\">\n",
       "      <th></th>\n",
       "      <th>pc1</th>\n",
       "      <th>pc2</th>\n",
       "      <th>pc3</th>\n",
       "      <th>pc4</th>\n",
       "      <th>pc5</th>\n",
       "      <th>pc6</th>\n",
       "      <th>pc7</th>\n",
       "      <th>pc8</th>\n",
       "      <th>pc9</th>\n",
       "      <th>pc10</th>\n",
       "    </tr>\n",
       "  </thead>\n",
       "  <tbody>\n",
       "    <tr>\n",
       "      <th>0</th>\n",
       "      <td>-2.097959</td>\n",
       "      <td>-1.813713</td>\n",
       "      <td>2.197787e-10</td>\n",
       "      <td>1.550326</td>\n",
       "      <td>1.723048</td>\n",
       "      <td>-0.303240</td>\n",
       "      <td>-0.731874</td>\n",
       "      <td>4.317555e-14</td>\n",
       "      <td>0.001337</td>\n",
       "      <td>0.358203</td>\n",
       "    </tr>\n",
       "    <tr>\n",
       "      <th>1</th>\n",
       "      <td>-2.097959</td>\n",
       "      <td>-1.813713</td>\n",
       "      <td>9.113437e-13</td>\n",
       "      <td>1.585749</td>\n",
       "      <td>-0.552542</td>\n",
       "      <td>1.650530</td>\n",
       "      <td>-0.675165</td>\n",
       "      <td>1.378445e-13</td>\n",
       "      <td>0.001337</td>\n",
       "      <td>0.358203</td>\n",
       "    </tr>\n",
       "    <tr>\n",
       "      <th>2</th>\n",
       "      <td>-2.097959</td>\n",
       "      <td>-1.813713</td>\n",
       "      <td>-7.907453e-11</td>\n",
       "      <td>1.586800</td>\n",
       "      <td>-1.107379</td>\n",
       "      <td>-1.296549</td>\n",
       "      <td>-0.758115</td>\n",
       "      <td>1.348848e-13</td>\n",
       "      <td>0.001337</td>\n",
       "      <td>0.358203</td>\n",
       "    </tr>\n",
       "    <tr>\n",
       "      <th>3</th>\n",
       "      <td>-2.097959</td>\n",
       "      <td>-1.813713</td>\n",
       "      <td>6.334318e-11</td>\n",
       "      <td>1.550326</td>\n",
       "      <td>1.723048</td>\n",
       "      <td>-0.303240</td>\n",
       "      <td>-0.731874</td>\n",
       "      <td>4.502735e-14</td>\n",
       "      <td>1.668657</td>\n",
       "      <td>-0.982713</td>\n",
       "    </tr>\n",
       "    <tr>\n",
       "      <th>4</th>\n",
       "      <td>-2.097959</td>\n",
       "      <td>-1.813713</td>\n",
       "      <td>9.509677e-13</td>\n",
       "      <td>1.585749</td>\n",
       "      <td>-0.552542</td>\n",
       "      <td>1.650530</td>\n",
       "      <td>-0.675165</td>\n",
       "      <td>2.424196e-14</td>\n",
       "      <td>1.668657</td>\n",
       "      <td>-0.982713</td>\n",
       "    </tr>\n",
       "  </tbody>\n",
       "</table>\n",
       "</div>"
      ],
      "text/plain": [
       "        pc1       pc2           pc3       pc4       pc5       pc6       pc7  \\\n",
       "0 -2.097959 -1.813713  2.197787e-10  1.550326  1.723048 -0.303240 -0.731874   \n",
       "1 -2.097959 -1.813713  9.113437e-13  1.585749 -0.552542  1.650530 -0.675165   \n",
       "2 -2.097959 -1.813713 -7.907453e-11  1.586800 -1.107379 -1.296549 -0.758115   \n",
       "3 -2.097959 -1.813713  6.334318e-11  1.550326  1.723048 -0.303240 -0.731874   \n",
       "4 -2.097959 -1.813713  9.509677e-13  1.585749 -0.552542  1.650530 -0.675165   \n",
       "\n",
       "            pc8       pc9      pc10  \n",
       "0  4.317555e-14  0.001337  0.358203  \n",
       "1  1.378445e-13  0.001337  0.358203  \n",
       "2  1.348848e-13  0.001337  0.358203  \n",
       "3  4.502735e-14  1.668657 -0.982713  \n",
       "4  2.424196e-14  1.668657 -0.982713  "
      ]
     },
     "execution_count": 28,
     "metadata": {},
     "output_type": "execute_result"
    }
   ],
   "source": [
    "X.head()"
   ]
  },
  {
   "cell_type": "code",
   "execution_count": 29,
   "metadata": {},
   "outputs": [
    {
     "data": {
      "text/plain": [
       "0    0\n",
       "1    0\n",
       "2    0\n",
       "3    0\n",
       "4    0\n",
       "Name: target, dtype: object"
      ]
     },
     "execution_count": 29,
     "metadata": {},
     "output_type": "execute_result"
    }
   ],
   "source": [
    "y.head()"
   ]
  },
  {
   "cell_type": "code",
   "execution_count": 30,
   "metadata": {},
   "outputs": [
    {
     "data": {
      "text/plain": [
       "316795    1\n",
       "316796    1\n",
       "316797    1\n",
       "316798    1\n",
       "316799    1\n",
       "Name: target, dtype: object"
      ]
     },
     "execution_count": 30,
     "metadata": {},
     "output_type": "execute_result"
    }
   ],
   "source": [
    "y.tail()"
   ]
  },
  {
   "cell_type": "code",
   "execution_count": null,
   "metadata": {},
   "outputs": [],
   "source": []
  }
 ],
 "metadata": {
  "kernelspec": {
   "display_name": "Python 3",
   "language": "python",
   "name": "python3"
  },
  "language_info": {
   "codemirror_mode": {
    "name": "ipython",
    "version": 3
   },
   "file_extension": ".py",
   "mimetype": "text/x-python",
   "name": "python",
   "nbconvert_exporter": "python",
   "pygments_lexer": "ipython3",
   "version": "3.7.1"
  }
 },
 "nbformat": 4,
 "nbformat_minor": 2
}
