{
 "cells": [
  {
   "cell_type": "code",
   "execution_count": 1,
   "metadata": {},
   "outputs": [],
   "source": [
    "import pandas as pd\n",
    "import numpy as np\n",
    "from matplotlib import pyplot as plt"
   ]
  },
  {
   "cell_type": "code",
   "execution_count": 2,
   "metadata": {},
   "outputs": [
    {
     "data": {
      "text/html": [
       "<div>\n",
       "<style scoped>\n",
       "    .dataframe tbody tr th:only-of-type {\n",
       "        vertical-align: middle;\n",
       "    }\n",
       "\n",
       "    .dataframe tbody tr th {\n",
       "        vertical-align: top;\n",
       "    }\n",
       "\n",
       "    .dataframe thead th {\n",
       "        text-align: right;\n",
       "    }\n",
       "</style>\n",
       "<table border=\"1\" class=\"dataframe\">\n",
       "  <thead>\n",
       "    <tr style=\"text-align: right;\">\n",
       "      <th></th>\n",
       "      <th>ID</th>\n",
       "      <th>Algorithm</th>\n",
       "      <th>Accuracyscore</th>\n",
       "      <th>Precisionscore</th>\n",
       "      <th>f1score</th>\n",
       "      <th>recallscore</th>\n",
       "    </tr>\n",
       "  </thead>\n",
       "  <tbody>\n",
       "    <tr>\n",
       "      <th>0</th>\n",
       "      <td>1</td>\n",
       "      <td>AUTOENCODER</td>\n",
       "      <td>50</td>\n",
       "      <td>50</td>\n",
       "      <td>66.7</td>\n",
       "      <td>1.00</td>\n",
       "    </tr>\n",
       "    <tr>\n",
       "      <th>1</th>\n",
       "      <td>2</td>\n",
       "      <td>ISOLATIONFOREST</td>\n",
       "      <td>50</td>\n",
       "      <td>50</td>\n",
       "      <td>67.0</td>\n",
       "      <td>1.00</td>\n",
       "    </tr>\n",
       "    <tr>\n",
       "      <th>2</th>\n",
       "      <td>3</td>\n",
       "      <td>LOF</td>\n",
       "      <td>87</td>\n",
       "      <td>94</td>\n",
       "      <td>93.0</td>\n",
       "      <td>0.93</td>\n",
       "    </tr>\n",
       "  </tbody>\n",
       "</table>\n",
       "</div>"
      ],
      "text/plain": [
       "   ID        Algorithm  Accuracyscore  Precisionscore  f1score  recallscore\n",
       "0   1      AUTOENCODER             50              50     66.7         1.00\n",
       "1   2  ISOLATIONFOREST             50              50     67.0         1.00\n",
       "2   3              LOF             87              94     93.0         0.93"
      ]
     },
     "execution_count": 2,
     "metadata": {},
     "output_type": "execute_result"
    }
   ],
   "source": [
    "df=pd.read_csv(\"compfilecardio.csv\")\n",
    "df.head()"
   ]
  },
  {
   "cell_type": "code",
   "execution_count": 3,
   "metadata": {},
   "outputs": [
    {
     "data": {
      "text/html": [
       "<div>\n",
       "<style scoped>\n",
       "    .dataframe tbody tr th:only-of-type {\n",
       "        vertical-align: middle;\n",
       "    }\n",
       "\n",
       "    .dataframe tbody tr th {\n",
       "        vertical-align: top;\n",
       "    }\n",
       "\n",
       "    .dataframe thead th {\n",
       "        text-align: right;\n",
       "    }\n",
       "</style>\n",
       "<table border=\"1\" class=\"dataframe\">\n",
       "  <thead>\n",
       "    <tr style=\"text-align: right;\">\n",
       "      <th></th>\n",
       "      <th>ID</th>\n",
       "      <th>Algorithm</th>\n",
       "      <th>Accuracyscore</th>\n",
       "      <th>Precisionscore</th>\n",
       "      <th>f1score</th>\n",
       "      <th>recallscore</th>\n",
       "    </tr>\n",
       "  </thead>\n",
       "  <tbody>\n",
       "    <tr>\n",
       "      <th>2</th>\n",
       "      <td>3</td>\n",
       "      <td>LOF</td>\n",
       "      <td>87</td>\n",
       "      <td>94</td>\n",
       "      <td>93.0</td>\n",
       "      <td>0.93</td>\n",
       "    </tr>\n",
       "    <tr>\n",
       "      <th>0</th>\n",
       "      <td>1</td>\n",
       "      <td>AUTOENCODER</td>\n",
       "      <td>50</td>\n",
       "      <td>50</td>\n",
       "      <td>66.7</td>\n",
       "      <td>1.00</td>\n",
       "    </tr>\n",
       "    <tr>\n",
       "      <th>1</th>\n",
       "      <td>2</td>\n",
       "      <td>ISOLATIONFOREST</td>\n",
       "      <td>50</td>\n",
       "      <td>50</td>\n",
       "      <td>67.0</td>\n",
       "      <td>1.00</td>\n",
       "    </tr>\n",
       "  </tbody>\n",
       "</table>\n",
       "</div>"
      ],
      "text/plain": [
       "   ID        Algorithm  Accuracyscore  Precisionscore  f1score  recallscore\n",
       "2   3              LOF             87              94     93.0         0.93\n",
       "0   1      AUTOENCODER             50              50     66.7         1.00\n",
       "1   2  ISOLATIONFOREST             50              50     67.0         1.00"
      ]
     },
     "execution_count": 3,
     "metadata": {},
     "output_type": "execute_result"
    }
   ],
   "source": [
    "sorted_df= df.sort_values(by=[\"Accuracyscore\"], ascending=False)\n",
    "sorted_df\n",
    "\n",
    "names_list  = sorted_df[\"Algorithm\"].values\n",
    "values_list = sorted_df[\"Accuracyscore\"].values\n",
    "names=[i for i in names_list]\n",
    "values=[i for i in values_list]\n",
    "name_codes=[i for i in range(0,len(names))]\n",
    "\n",
    "sorted_df"
   ]
  },
  {
   "cell_type": "code",
   "execution_count": 4,
   "metadata": {},
   "outputs": [
    {
     "data": {
      "image/png": "[encoded data removed]",
      "text/plain": [
       "<Figure size 432x288 with 1 Axes>"
      ]
     },
     "metadata": {
      "needs_background": "light"
     },
     "output_type": "display_data"
    }
   ],
   "source": [
    "plt.bar(name_codes, values, align='center')\n",
    "plt.xticks(name_codes,names,rotation=90)\n",
    "plt.suptitle(\"OVERALL ACCURACY PICTURE\", fontsize = 18)\n",
    "plt.xlabel(\"Algorithm\")\n",
    "plt.ylabel(\"Accuracy(in %)\")\n",
    "plt.tight_layout()\n",
    "plt.subplots_adjust(top=0.85)\n",
    "plt.show()\n",
    "plt.close()"
   ]
  },
  {
   "cell_type": "code",
   "execution_count": 8,
   "metadata": {},
   "outputs": [
    {
     "data": {
      "text/html": [
       "<div>\n",
       "<style scoped>\n",
       "    .dataframe tbody tr th:only-of-type {\n",
       "        vertical-align: middle;\n",
       "    }\n",
       "\n",
       "    .dataframe tbody tr th {\n",
       "        vertical-align: top;\n",
       "    }\n",
       "\n",
       "    .dataframe thead th {\n",
       "        text-align: right;\n",
       "    }\n",
       "</style>\n",
       "<table border=\"1\" class=\"dataframe\">\n",
       "  <thead>\n",
       "    <tr style=\"text-align: right;\">\n",
       "      <th></th>\n",
       "      <th>ID</th>\n",
       "      <th>Algorithm</th>\n",
       "      <th>Accuracyscore</th>\n",
       "      <th>Precisionscore</th>\n",
       "      <th>f1score</th>\n",
       "      <th>recallscore</th>\n",
       "    </tr>\n",
       "  </thead>\n",
       "  <tbody>\n",
       "    <tr>\n",
       "      <th>1</th>\n",
       "      <td>2</td>\n",
       "      <td>ISOLATIONFOREST</td>\n",
       "      <td>50</td>\n",
       "      <td>50</td>\n",
       "      <td>67.0</td>\n",
       "      <td>1</td>\n",
       "    </tr>\n",
       "    <tr>\n",
       "      <th>0</th>\n",
       "      <td>1</td>\n",
       "      <td>AUTOENCODER</td>\n",
       "      <td>50</td>\n",
       "      <td>50</td>\n",
       "      <td>66.7</td>\n",
       "      <td>1</td>\n",
       "    </tr>\n",
       "  </tbody>\n",
       "</table>\n",
       "</div>"
      ],
      "text/plain": [
       "   ID        Algorithm  Accuracyscore  Precisionscore  f1score  recallscore\n",
       "1   2  ISOLATIONFOREST             50              50     67.0            1\n",
       "0   1      AUTOENCODER             50              50     66.7            1"
      ]
     },
     "execution_count": 8,
     "metadata": {},
     "output_type": "execute_result"
    }
   ],
   "source": [
    "sorted_df= df.sort_values(by=[\"f1score\"], ascending=False)\n",
    "sorted_df\n",
    "\n",
    "names_list  = sorted_df[\"Algorithm\"].values\n",
    "values_list = sorted_df[\"f1score\"].values\n",
    "names=[i for i in names_list]\n",
    "values=[i for i in values_list]\n",
    "name_codes=[i for i in range(0,len(names))]\n",
    "\n",
    "sorted_df"
   ]
  },
  {
   "cell_type": "code",
   "execution_count": 9,
   "metadata": {},
   "outputs": [
    {
     "data": {
      "image/png": "[encoded data removed]",
      "text/plain": [
       "<Figure size 432x288 with 1 Axes>"
      ]
     },
     "metadata": {
      "needs_background": "light"
     },
     "output_type": "display_data"
    }
   ],
   "source": [
    "plt.bar(name_codes, values, align='center')\n",
    "plt.xticks(name_codes,names,rotation=90)\n",
    "plt.suptitle(\"OVERALL F1SCORE PICTURE\", fontsize = 18)\n",
    "plt.xlabel(\"Algorithm\")\n",
    "plt.ylabel(\"f1score(in %)\")\n",
    "plt.tight_layout()\n",
    "plt.subplots_adjust(top=0.85)\n",
    "plt.show()\n",
    "plt.close()"
   ]
  },
  {
   "cell_type": "code",
   "execution_count": 11,
   "metadata": {},
   "outputs": [
    {
     "data": {
      "text/html": [
       "<div>\n",
       "<style scoped>\n",
       "    .dataframe tbody tr th:only-of-type {\n",
       "        vertical-align: middle;\n",
       "    }\n",
       "\n",
       "    .dataframe tbody tr th {\n",
       "        vertical-align: top;\n",
       "    }\n",
       "\n",
       "    .dataframe thead th {\n",
       "        text-align: right;\n",
       "    }\n",
       "</style>\n",
       "<table border=\"1\" class=\"dataframe\">\n",
       "  <thead>\n",
       "    <tr style=\"text-align: right;\">\n",
       "      <th></th>\n",
       "      <th>ID</th>\n",
       "      <th>Algorithm</th>\n",
       "      <th>Accuracyscore</th>\n",
       "      <th>Precisionscore</th>\n",
       "      <th>f1score</th>\n",
       "      <th>recallscore</th>\n",
       "    </tr>\n",
       "  </thead>\n",
       "  <tbody>\n",
       "    <tr>\n",
       "      <th>0</th>\n",
       "      <td>1</td>\n",
       "      <td>AUTOENCODER</td>\n",
       "      <td>50</td>\n",
       "      <td>50</td>\n",
       "      <td>66.7</td>\n",
       "      <td>1</td>\n",
       "    </tr>\n",
       "    <tr>\n",
       "      <th>1</th>\n",
       "      <td>2</td>\n",
       "      <td>ISOLATIONFOREST</td>\n",
       "      <td>50</td>\n",
       "      <td>50</td>\n",
       "      <td>67.0</td>\n",
       "      <td>1</td>\n",
       "    </tr>\n",
       "  </tbody>\n",
       "</table>\n",
       "</div>"
      ],
      "text/plain": [
       "   ID        Algorithm  Accuracyscore  Precisionscore  f1score  recallscore\n",
       "0   1      AUTOENCODER             50              50     66.7            1\n",
       "1   2  ISOLATIONFOREST             50              50     67.0            1"
      ]
     },
     "execution_count": 11,
     "metadata": {},
     "output_type": "execute_result"
    }
   ],
   "source": [
    "sorted_df= df.sort_values(by=[\"Precisionscore\"], ascending=False)\n",
    "sorted_df\n",
    "\n",
    "names_list  = sorted_df[\"Algorithm\"].values\n",
    "values_list = sorted_df[\"Precisionscore\"].values\n",
    "names=[i for i in names_list]\n",
    "values=[i for i in values_list]\n",
    "name_codes=[i for i in range(0,len(names))]\n",
    "\n",
    "sorted_df"
   ]
  },
  {
   "cell_type": "code",
   "execution_count": 12,
   "metadata": {},
   "outputs": [
    {
     "data": {
      "image/png": "[encoded data removed]",
      "text/plain": [
       "<Figure size 432x288 with 1 Axes>"
      ]
     },
     "metadata": {
      "needs_background": "light"
     },
     "output_type": "display_data"
    }
   ],
   "source": [
    "plt.bar(name_codes, values, align='center')\n",
    "plt.xticks(name_codes,names,rotation=90)\n",
    "plt.suptitle(\"OVERALL PRECISIONSCORE PICTURE\", fontsize = 18)\n",
    "plt.xlabel(\"Algorithm\")\n",
    "plt.ylabel(\"precisionscore(in %)\")\n",
    "plt.tight_layout()\n",
    "plt.subplots_adjust(top=0.85)\n",
    "plt.show()\n",
    "plt.close()"
   ]
  },
  {
   "cell_type": "code",
   "execution_count": 13,
   "metadata": {},
   "outputs": [
    {
     "data": {
      "text/html": [
       "<div>\n",
       "<style scoped>\n",
       "    .dataframe tbody tr th:only-of-type {\n",
       "        vertical-align: middle;\n",
       "    }\n",
       "\n",
       "    .dataframe tbody tr th {\n",
       "        vertical-align: top;\n",
       "    }\n",
       "\n",
       "    .dataframe thead th {\n",
       "        text-align: right;\n",
       "    }\n",
       "</style>\n",
       "<table border=\"1\" class=\"dataframe\">\n",
       "  <thead>\n",
       "    <tr style=\"text-align: right;\">\n",
       "      <th></th>\n",
       "      <th>ID</th>\n",
       "      <th>Algorithm</th>\n",
       "      <th>Accuracyscore</th>\n",
       "      <th>Precisionscore</th>\n",
       "      <th>f1score</th>\n",
       "      <th>recallscore</th>\n",
       "    </tr>\n",
       "  </thead>\n",
       "  <tbody>\n",
       "    <tr>\n",
       "      <th>0</th>\n",
       "      <td>1</td>\n",
       "      <td>AUTOENCODER</td>\n",
       "      <td>50</td>\n",
       "      <td>50</td>\n",
       "      <td>66.7</td>\n",
       "      <td>1</td>\n",
       "    </tr>\n",
       "    <tr>\n",
       "      <th>1</th>\n",
       "      <td>2</td>\n",
       "      <td>ISOLATIONFOREST</td>\n",
       "      <td>50</td>\n",
       "      <td>50</td>\n",
       "      <td>67.0</td>\n",
       "      <td>1</td>\n",
       "    </tr>\n",
       "  </tbody>\n",
       "</table>\n",
       "</div>"
      ],
      "text/plain": [
       "   ID        Algorithm  Accuracyscore  Precisionscore  f1score  recallscore\n",
       "0   1      AUTOENCODER             50              50     66.7            1\n",
       "1   2  ISOLATIONFOREST             50              50     67.0            1"
      ]
     },
     "execution_count": 13,
     "metadata": {},
     "output_type": "execute_result"
    }
   ],
   "source": [
    "sorted_df= df.sort_values(by=[\"recallscore\"], ascending=False)\n",
    "sorted_df\n",
    "\n",
    "names_list  = sorted_df[\"Algorithm\"].values\n",
    "values_list = sorted_df[\"recallscore\"].values\n",
    "names=[i for i in names_list]\n",
    "values=[i for i in values_list]\n",
    "name_codes=[i for i in range(0,len(names))]\n",
    "\n",
    "sorted_df"
   ]
  },
  {
   "cell_type": "code",
   "execution_count": 14,
   "metadata": {},
   "outputs": [
    {
     "data": {
      "image/png": "[encoded data removed]",
      "text/plain": [
       "<Figure size 432x288 with 1 Axes>"
      ]
     },
     "metadata": {
      "needs_background": "light"
     },
     "output_type": "display_data"
    }
   ],
   "source": [
    "plt.bar(name_codes, values, align='center')\n",
    "plt.xticks(name_codes,names,rotation=90)\n",
    "plt.suptitle(\"OVERALL RECALLSCORE PICTURE\", fontsize = 18)\n",
    "plt.xlabel(\"Algorithm\")\n",
    "plt.ylabel(\"recallscore\")\n",
    "plt.tight_layout()\n",
    "plt.subplots_adjust(top=0.85)\n",
    "plt.show()\n",
    "plt.close()"
   ]
  },
  {
   "cell_type": "code",
   "execution_count": null,
   "metadata": {},
   "outputs": [],
   "source": []
  }
 ],
 "metadata": {
  "kernelspec": {
   "display_name": "Python 3",
   "language": "python",
   "name": "python3"
  },
  "language_info": {
   "codemirror_mode": {
    "name": "ipython",
    "version": 3
   },
   "file_extension": ".py",
   "mimetype": "text/x-python",
   "name": "python",
   "nbconvert_exporter": "python",
   "pygments_lexer": "ipython3",
   "version": "3.7.1"
  }
 },
 "nbformat": 4,
 "nbformat_minor": 2
}
