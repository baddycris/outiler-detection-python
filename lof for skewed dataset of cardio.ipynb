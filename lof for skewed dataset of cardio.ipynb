{
 "cells": [
  {
   "cell_type": "code",
   "execution_count": 1,
   "metadata": {},
   "outputs": [],
   "source": [
    "import pandas as pd\n",
    "import numpy as np\n",
    "import seaborn as sns\n",
    "import matplotlib.pyplot as plt"
   ]
  },
  {
   "cell_type": "code",
   "execution_count": 2,
   "metadata": {},
   "outputs": [],
   "source": [
    "df = pd.read_csv('skeweddatas.csv')"
   ]
  },
  {
   "cell_type": "code",
   "execution_count": 4,
   "metadata": {},
   "outputs": [
    {
     "data": {
      "text/plain": [
       "0.06959152798789713"
      ]
     },
     "execution_count": 4,
     "metadata": {},
     "output_type": "execute_result"
    }
   ],
   "source": [
    "good = df[df['diag']==0]\n",
    "bad = df[df['diag']==1]\n",
    "\n",
    "outlier_fraction = len(bad)/float(len(good))\n",
    "outlier_fraction"
   ]
  },
  {
   "cell_type": "code",
   "execution_count": 5,
   "metadata": {},
   "outputs": [
    {
     "name": "stdout",
     "output_type": "stream",
     "text": [
      "No. of normal : 661\n",
      "No. of anomaly : 46\n"
     ]
    }
   ],
   "source": [
    "print(\"No. of normal : {}\".format(len(good)))\n",
    "print(\"No. of anomaly : {}\".format(len(bad)))"
   ]
  },
  {
   "cell_type": "code",
   "execution_count": 6,
   "metadata": {},
   "outputs": [],
   "source": [
    "columns = df.columns.tolist()\n",
    "columns = [c for c in columns if c not in ['diag']]\n",
    "target = 'diag'"
   ]
  },
  {
   "cell_type": "code",
   "execution_count": 7,
   "metadata": {},
   "outputs": [
    {
     "name": "stdout",
     "output_type": "stream",
     "text": [
      "(707, 31)\n",
      "(707,)\n"
     ]
    }
   ],
   "source": [
    "X = df[columns]\n",
    "y = df[target]\n",
    "print(X.shape)\n",
    "print(y.shape)"
   ]
  },
  {
   "cell_type": "code",
   "execution_count": 8,
   "metadata": {},
   "outputs": [],
   "source": [
    "from sklearn.metrics import classification_report, accuracy_score\n",
    "from sklearn.ensemble import IsolationForest\n",
    "from sklearn.neighbors import LocalOutlierFactor"
   ]
  },
  {
   "cell_type": "code",
   "execution_count": 9,
   "metadata": {},
   "outputs": [
    {
     "name": "stderr",
     "output_type": "stream",
     "text": [
      "C:\\Users\\Acer\\Anaconda3\\lib\\site-packages\\sklearn\\ensemble\\iforest.py:223: FutureWarning: behaviour=\"old\" is deprecated and will be removed in version 0.22. Please use behaviour=\"new\", which makes the decision_function change to match other anomaly detection algorithm API.\n",
      "  FutureWarning)\n"
     ]
    },
    {
     "name": "stdout",
     "output_type": "stream",
     "text": [
      "Isolation Forest: 75\n",
      "Accuracy Score : 0.8939179632248939\n",
      "              precision    recall  f1-score   support\n",
      "\n",
      "           0       0.94      0.94      0.94       661\n",
      "           1       0.19      0.20      0.19        46\n",
      "\n",
      "   micro avg       0.89      0.89      0.89       707\n",
      "   macro avg       0.57      0.57      0.57       707\n",
      "weighted avg       0.89      0.89      0.89       707\n",
      "\n",
      "Local Outlier Factor: 87\n",
      "Accuracy Score : 0.8769448373408769\n",
      "              precision    recall  f1-score   support\n",
      "\n",
      "           0       0.94      0.93      0.93       661\n",
      "           1       0.08      0.09      0.08        46\n",
      "\n",
      "   micro avg       0.88      0.88      0.88       707\n",
      "   macro avg       0.51      0.51      0.51       707\n",
      "weighted avg       0.88      0.88      0.88       707\n",
      "\n"
     ]
    },
    {
     "name": "stderr",
     "output_type": "stream",
     "text": [
      "C:\\Users\\Acer\\Anaconda3\\lib\\site-packages\\sklearn\\ensemble\\iforest.py:417: DeprecationWarning: threshold_ attribute is deprecated in 0.20 and will be removed in 0.22.\n",
      "  \" be removed in 0.22.\", DeprecationWarning)\n"
     ]
    }
   ],
   "source": [
    "classifiers = {\n",
    "    \"Isolation Forest\": IsolationForest(max_samples = len(X), contamination = outlier_fraction, random_state = 1 ),\n",
    "    \"Local Outlier Factor\" : LocalOutlierFactor(n_neighbors = 20, contamination = outlier_fraction )\n",
    "}\n",
    "#fiting the data into different model and predicting the output \n",
    "n_outlier = len(bad)\n",
    "for i, (clf_name, clf) in enumerate(classifiers.items()):\n",
    "    if clf_name == \"Local Outlier Factor\":\n",
    "        y_pred = clf.fit_predict(X)\n",
    "        scores_pred = clf.negative_outlier_factor_\n",
    "    else:\n",
    "        clf.fit(X)\n",
    "        scores_pred = clf.decision_function(X)\n",
    "        y_pred = clf.predict(X)\n",
    "    y_pred[y_pred == 1] = 0\n",
    "    y_pred[y_pred == -1] = 1\n",
    "    n_errors = (y_pred != y).sum()\n",
    "    print('{}: {}'.format(clf_name, n_errors))\n",
    "    print('Accuracy Score : {}'.format(accuracy_score(y, y_pred)))\n",
    "    print((classification_report(y, y_pred)))"
   ]
  },
  {
   "cell_type": "code",
   "execution_count": null,
   "metadata": {},
   "outputs": [],
   "source": []
  }
 ],
 "metadata": {
  "kernelspec": {
   "display_name": "Python 3",
   "language": "python",
   "name": "python3"
  },
  "language_info": {
   "codemirror_mode": {
    "name": "ipython",
    "version": 3
   },
   "file_extension": ".py",
   "mimetype": "text/x-python",
   "name": "python",
   "nbconvert_exporter": "python",
   "pygments_lexer": "ipython3",
   "version": "3.7.1"
  }
 },
 "nbformat": 4,
 "nbformat_minor": 2
}
